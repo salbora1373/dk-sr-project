{
  "nbformat": 4,
  "nbformat_minor": 0,
  "metadata": {
    "colab": {
      "provenance": [],
      "mount_file_id": "17nL7sikksHa_kkELmtZgdO978YgPqTGa",
      "authorship_tag": "ABX9TyN+DmCdxWTh6sb+Q0iVBNjK",
      "include_colab_link": true
    },
    "kernelspec": {
      "name": "python3",
      "display_name": "Python 3"
    },
    "language_info": {
      "name": "python"
    }
  },
  "cells": [
    {
      "cell_type": "markdown",
      "metadata": {
        "id": "view-in-github",
        "colab_type": "text"
      },
      "source": [
        "<a href=\"https://colab.research.google.com/github/salbora1373/dk-sr-project/blob/main/Task_for_DK_SR.ipynb\" target=\"_parent\"><img src=\"https://colab.research.google.com/assets/colab-badge.svg\" alt=\"Open In Colab\"/></a>"
      ]
    },
    {
      "cell_type": "code",
      "execution_count": null,
      "metadata": {
        "colab": {
          "base_uri": "https://localhost:8080/"
        },
        "id": "V_dKRmncUvyT",
        "outputId": "aaf1b848-e854-4d1b-c875-568be7d32f1f"
      },
      "outputs": [
        {
          "output_type": "stream",
          "name": "stdout",
          "text": [
            "Raw data loaded: 61625 rows\n"
          ]
        }
      ],
      "source": [
        "import pandas as pd\n",
        "import ast\n",
        "import matplotlib.pyplot as plt\n",
        "\n",
        "# PLEASE CHANGE THIS VARIABLE TO SET THE PATH TO THE LOCAL FILE\n",
        "#I'm saving it to my Google Drive\n",
        "filepath = 'drive/MyDrive/Data_Set/bike_data.csv'\n",
        "\n",
        "# Load file and get only the index and data\n",
        "# sensordata -> data\n",
        "df_raw = pd.read_csv(filepath, header=None, names=['index', 'data'], skip_blank_lines=True)\n",
        "\n",
        "print(f\"Raw data loaded: {len(df_raw)} rows\")\n",
        "# The file contain srting version of dictionaries so i needed to covert them to real dictionaries\n",
        "# In case some rows are malformed, the eception part will remove them.\n",
        "def safe_parse(row):\n",
        "    try:\n",
        "        return ast.literal_eval(row)\n",
        "    except:\n",
        "        return None\n",
        "# Create another row to prevent overwriting of the column.\n",
        "df_raw['parsed'] = df_raw['data'].apply(safe_parse)\n",
        "\n",
        "# If an error occurs, then remove malformed data from the 'parsed' column.\n",
        "df_parsed = df_raw.dropna(subset=['parsed'])\n",
        "print(f\"Successfully parsed records: {len(df_parsed)}\")\n",
        "\n",
        "# Step 3: Convert these rows to readable JSON.\n",
        "df = pd.json_normalize(df_parsed['parsed'])\n",
        "\n",
        "print(f\"Normalized DataFrame shape: {df.shape}\")\n",
        "print(\"Columns:\", df.columns.tolist())\n",
        "\n",
        "# Step 4: Convert timestamps to human readable datetime\n",
        "df['start_time'] = pd.to_datetime(df['start_time'], unit='ms')\n",
        "df['end_time'] = pd.to_datetime(df['end_time'], unit='ms')\n",
        "\n",
        "# Step 5: Analyze 'when' — Trips per day/hour\n",
        "df['trip_date'] = df['start_time'].dt.date\n",
        "df['trip_hour'] = df['start_time'].dt.hour\n",
        "\n",
        "# Plot trips per day\n",
        "trips_per_day = df.groupby('trip_date').size()\n",
        "plt.figure(figsize=(12,5))\n",
        "trips_per_day.plot(title='Number of Trips per Day')\n",
        "plt.xlabel('Date')\n",
        "plt.ylabel('Number of Trips')\n",
        "plt.show()\n",
        "\n",
        "# Plot trips per hour\n",
        "trips_per_hour = df.groupby('trip_hour').size()\n",
        "plt.figure(figsize=(10,4))\n",
        "trips_per_hour.plot(kind='bar', title='Number of Trips by Hour of Day')\n",
        "plt.xlabel('Hour of Day')\n",
        "plt.ylabel('Number of Trips')\n",
        "plt.show()\n",
        "\n",
        "\n",
        "# example: [[0,0], [1,1]] gets converted to :\n",
        "# [0,0] in start_longitude and [1,1] in start_latitude\n",
        "df['start_longitude'] = df['coordinates'].apply(lambda x: x[0][0] if isinstance(x, list) and len(x) > 0 else None)\n",
        "df['start_latitude'] = df['coordinates'].apply(lambda x: x[0][1] if isinstance(x, list) and len(x) > 0 else None)\n",
        "\n",
        "# data cleaning: if some rows don't have this, remove.\n",
        "df_coords = df.dropna(subset=['start_longitude', 'start_latitude'])\n",
        "\n",
        "# Plot start locations on a scatter plot\n",
        "plt.figure(figsize=(8,8))\n",
        "plt.scatter(df_coords['start_longitude'], df_coords['start_latitude'], s=1, alpha=0.5)\n",
        "plt.title('Trip Start Locations')\n",
        "plt.xlabel('Longitude')\n",
        "plt.ylabel('Latitude')\n",
        "plt.show()\n",
        "\n",
        "# Step 7: Print key Infos\n",
        "print(\"Insights:\")\n",
        "print(f\"- Total trips analyzed: {len(df)}\")\n",
        "print(f\"- Date range: {df['trip_date'].min()} to {df['trip_date'].max()}\")\n",
        "print(f\"- Peak trip hour: {trips_per_hour.idxmax()} with {trips_per_hour.max()} trips\")\n",
        "print(f\"- Approximate start location centroid: ({df_coords['start_latitude'].mean():.5f}, {df_coords['start_longitude'].mean():.5f})\")\n"
      ]
    },
    {
      "cell_type": "code",
      "source": [
        "import pandas as pd\n",
        "\n",
        "# File path on your mounted Google Drive\n",
        "filepath = 'drive/MyDrive/Data_Set/bike_data.csv'\n",
        "\n",
        "# Step 1: Load the raw CSV with no header, as each row is a dict string\n",
        "df_raw = pd.read_csv(filepath, header=None, names=['index', 'data', \"trip_duration\"], skip_blank_lines=True)\n",
        "# Step 2: Parse each row string safely into dict (skip lines causing errors)\n",
        "def safe_parse(row):\n",
        "    try:\n",
        "        return ast.literal_eval(row)\n",
        "    except:\n",
        "        return None\n",
        "# None\n",
        "df_raw['parsed'] = df_raw['data'].apply(safe_parse)\n",
        "print(df_raw[\"parsed\"])\n",
        "print(\". ------------\")\n",
        "df = pd.json_normalize(df_parsed['parsed'])\n",
        "print(df)"
      ],
      "metadata": {
        "colab": {
          "base_uri": "https://localhost:8080/"
        },
        "id": "BjzGvWF3CV4m",
        "outputId": "6866a47c-f632-4d7f-b677-d461249bf803"
      },
      "execution_count": null,
      "outputs": [
        {
          "output_type": "stream",
          "name": "stdout",
          "text": [
            "0                                                     None\n",
            "1        {'trip_id': '439f9229-2784-4338-9773-d652c9e56...\n",
            "2        {'trip_id': 'c55453e0-b755-4158-9d78-d333097ec...\n",
            "3        {'trip_id': '916c12fa-965e-4902-a92f-e48049440...\n",
            "4        {'trip_id': '62efe364-30f4-4f48-b80a-d6c193dcd...\n",
            "                               ...                        \n",
            "61620    {'trip_id': 'e57b8a1c-536c-4e06-b30e-0b90b7cbb...\n",
            "61621    {'trip_id': '2b367c65-b8a5-4675-b342-6d9a4461e...\n",
            "61622    {'trip_id': '6db5b6ce-94f6-41aa-af9a-b28cf678e...\n",
            "61623    {'trip_id': '34acd706-5711-4b48-8354-e874b0515...\n",
            "61624    {'trip_id': 'f6aa2f26-2434-4055-82c5-88e76356e...\n",
            "Name: parsed, Length: 61625, dtype: object\n",
            ". ------------\n",
            "                                    trip_id       end_time  \\\n",
            "0      439f9229-2784-4338-9773-d652c9e568cc  1690844643510   \n",
            "1      c55453e0-b755-4158-9d78-d333097ecb45  1690845074877   \n",
            "2      916c12fa-965e-4902-a92f-e4804944093b  1690847157514   \n",
            "3      62efe364-30f4-4f48-b80a-d6c193dcdf86  1690845354405   \n",
            "4      9140fcef-3652-4b25-80b9-2304c4a3b6da  1690845213966   \n",
            "...                                     ...            ...   \n",
            "61619  e57b8a1c-536c-4e06-b30e-0b90b7cbb381  1696025404836   \n",
            "61620  2b367c65-b8a5-4675-b342-6d9a4461eab3  1696027874162   \n",
            "61621  6db5b6ce-94f6-41aa-af9a-b28cf678e9ed  1696026708162   \n",
            "61622  34acd706-5711-4b48-8354-e874b0515b2b  1696025971737   \n",
            "61623  f6aa2f26-2434-4055-82c5-88e76356e79e  1696027957843   \n",
            "\n",
            "                                             coordinates vehicle_type  \\\n",
            "0      [[8.262563, 50.000889], [8.262563, 50.000889],...      scooter   \n",
            "1      [[8.227722, 49.996441], [8.22736, 49.996296], ...      scooter   \n",
            "2      [[8.267058, 49.984197], [8.267061, 49.984202],...      scooter   \n",
            "3      [[8.259436, 50.005557], [8.259816, 50.0054], [...      scooter   \n",
            "4      [[8.279259, 49.996319], [8.279267, 49.996318],...      scooter   \n",
            "...                                                  ...          ...   \n",
            "61619  [[8.254793, 50.003408], [8.254949, 50.003484],...      scooter   \n",
            "61620  [[8.26822, 50.008932], [8.26824, 50.008803], [...      scooter   \n",
            "61621  [[8.275954, 50.00066], [8.274681, 50.003203], ...      scooter   \n",
            "61622  [[8.26121, 50.00026], [8.260742, 50.000225], [...      scooter   \n",
            "61623  [[8.262704, 50.010859], [8.263379, 50.01086], ...      scooter   \n",
            "\n",
            "       accuracy  trip_distance propulsion_types  \\\n",
            "0           8.0         1926.0         electric   \n",
            "1           8.0         2294.0         electric   \n",
            "2           8.0         3689.0         electric   \n",
            "3           8.0         2613.0         electric   \n",
            "4           8.0         1538.0         electric   \n",
            "...         ...            ...              ...   \n",
            "61619       8.0          835.0         electric   \n",
            "61620       8.0         1737.0         electric   \n",
            "61621       8.0         3269.0         electric   \n",
            "61622       8.0         2417.0         electric   \n",
            "61623       8.0         1133.0         electric   \n",
            "\n",
            "                                        SID     start_time  \\\n",
            "0      b2dbe616-456a-4cd6-bd22-9547941dbdd5  1690844227199   \n",
            "1      b2dbe616-456a-4cd6-bd22-9547941dbdd5  1690844576447   \n",
            "2      b2dbe616-456a-4cd6-bd22-9547941dbdd5  1690846148466   \n",
            "3      b2dbe616-456a-4cd6-bd22-9547941dbdd5  1690844783757   \n",
            "4      b2dbe616-456a-4cd6-bd22-9547941dbdd5  1690844894374   \n",
            "...                                     ...            ...   \n",
            "61619  b2dbe616-456a-4cd6-bd22-9547941dbdd5  1696024967264   \n",
            "61620  b2dbe616-456a-4cd6-bd22-9547941dbdd5  1696026868272   \n",
            "61621  b2dbe616-456a-4cd6-bd22-9547941dbdd5  1696026062332   \n",
            "61622  b2dbe616-456a-4cd6-bd22-9547941dbdd5  1696025390700   \n",
            "61623  b2dbe616-456a-4cd6-bd22-9547941dbdd5  1696027706115   \n",
            "\n",
            "                                         timestamps_list  trip_duration  \\\n",
            "0      [1690844227000, 1690844229000, 1690844238000, ...          416.0   \n",
            "1      [1690844576000, 1690844589000, 1690844597000, ...          498.0   \n",
            "2      [1690846148000, 1690846160000, 1690846171000, ...         1009.0   \n",
            "3      [1690844783000, 1690844795000, 1690844806000, ...          571.0   \n",
            "4      [1690844894000, 1690844896000, 1690844906000, ...          320.0   \n",
            "...                                                  ...            ...   \n",
            "61619  [1696024967000, 1696024979000, 1696024989000, ...          438.0   \n",
            "61620  [1696026868000, 1696026880000, 1696026890000, ...         1006.0   \n",
            "61621  [1696026062000, 1696026137000, 1696026148000, ...          646.0   \n",
            "61622  [1696025390000, 1696025413000, 1696025423000, ...          581.0   \n",
            "61623  [1696027706000, 1696027737000, 1696027748000, ...          252.0   \n",
            "\n",
            "      vehicle_id                 timestamp _headers.eventType  \n",
            "0         403328  2023-08-01T00:45:59.936Z   MdsTierEventType  \n",
            "1         420400  2023-08-01T00:45:59.936Z   MdsTierEventType  \n",
            "2         419482  2023-08-01T00:45:59.936Z   MdsTierEventType  \n",
            "3         415192  2023-08-01T00:45:59.936Z   MdsTierEventType  \n",
            "4         421106  2023-08-01T00:45:59.936Z   MdsTierEventType  \n",
            "...          ...                       ...                ...  \n",
            "61619     402867  2023-09-29T23:46:00.037Z   MdsTierEventType  \n",
            "61620     403340  2023-09-29T23:46:00.037Z   MdsTierEventType  \n",
            "61621     415059  2023-09-29T23:46:00.037Z   MdsTierEventType  \n",
            "61622     419406  2023-09-29T23:46:00.037Z   MdsTierEventType  \n",
            "61623     419992  2023-09-29T23:46:00.037Z   MdsTierEventType  \n",
            "\n",
            "[61624 rows x 14 columns]\n"
          ]
        }
      ]
    },
    {
      "cell_type": "code",
      "source": [
        "person = {\"name\": \"Aly\", \"age\": 30}\n",
        "\n",
        "print(person['name'])\n",
        "person[\"name\"] = \"Hussain\"\n",
        "print(person['name'])\n",
        "person[\"age\"] = 45\n",
        "print(person['age'])\n",
        "\n"
      ],
      "metadata": {
        "colab": {
          "base_uri": "https://localhost:8080/"
        },
        "id": "-07teNnEEt0a",
        "outputId": "634df5c1-62c1-4898-c790-ca47b3bcd20d"
      },
      "execution_count": null,
      "outputs": [
        {
          "output_type": "stream",
          "name": "stdout",
          "text": [
            "Aly\n",
            "Hussain\n",
            "45\n"
          ]
        }
      ]
    }
  ]
}